{
  "nbformat": 4,
  "nbformat_minor": 0,
  "metadata": {
    "colab": {
      "provenance": [],
      "authorship_tag": "ABX9TyNn7p9bk/iZNZPAO2c2/1dp"
    },
    "kernelspec": {
      "name": "python3",
      "display_name": "Python 3"
    },
    "language_info": {
      "name": "python"
    }
  },
  "cells": [
    {
      "cell_type": "markdown",
      "source": [
        "## Case Study"
      ],
      "metadata": {
        "id": "YihJO_xlbrjn"
      }
    },
    {
      "cell_type": "code",
      "source": [
        "\"\"\"\n",
        "Create a function called \"addition_2number\"\n",
        "that takes two input numbers from user\n",
        "and returns sum and count of them.\n",
        "\"\"\"\n",
        "def addition_2number():\n",
        "  num1 = float(input(\"Enter the first number: \"))\n",
        "  num2 = float(input(\"Enter the second number: \"))\n",
        "  return num1 + num2, 2\n",
        "\n",
        "total, count = addition_2number()\n",
        "print(f'sum: {total} , count: {count}')"
      ],
      "metadata": {
        "colab": {
          "base_uri": "https://localhost:8080/"
        },
        "id": "o1tB1NS4bxBy",
        "outputId": "863bfaf0-9730-4532-ca46-49ee08fb66cd"
      },
      "execution_count": null,
      "outputs": [
        {
          "output_type": "stream",
          "name": "stdout",
          "text": [
            "Enter the first number: 1\n",
            "Enter the second number: 1\n",
            "sum: 2.0 , count: 2\n"
          ]
        }
      ]
    },
    {
      "cell_type": "code",
      "source": [
        "\"\"\"\n",
        "Create a function called \"addition\"\n",
        "that can add two or more numbers\n",
        "till user enters zero\n",
        "and returns answer and count of input numbers in a list.\n",
        "\"\"\"\n",
        "def addition():\n",
        "    total = 0\n",
        "    count = 0\n",
        "    num = float(input(\"Enter a number (enter 0 to stop): \"))\n",
        "    while num != 0:\n",
        "        total += num\n",
        "        count += 1\n",
        "        num = float(input(\"Enter a number (enter 0 to stop): \"))\n",
        "    return [total, count]\n",
        "\n",
        "\n",
        "result = addition()\n",
        "print(f\"Sum: {result[0]}, Count: {result[1]}\")"
      ],
      "metadata": {
        "colab": {
          "base_uri": "https://localhost:8080/"
        },
        "id": "9DsxdZybcDBt",
        "outputId": "062b8c22-a24b-4d79-da96-3c6a6e69370d"
      },
      "execution_count": null,
      "outputs": [
        {
          "output_type": "stream",
          "name": "stdout",
          "text": [
            "Enter a number (enter 0 to stop): 1\n",
            "Enter a number (enter 0 to stop): 1\n",
            "Enter a number (enter 0 to stop): 1\n",
            "Enter a number (enter 0 to stop): 0\n",
            "Sum: 3.0, Count: 3\n"
          ]
        }
      ]
    },
    {
      "cell_type": "code",
      "source": [
        "\"\"\"\n",
        "Create a function called \"subtraction\"\n",
        "that can subtract two or more numbers\n",
        "till user enters zero\n",
        "and returns answer and countof input numbers in a list.\n",
        "\"\"\"\n",
        "def subtraction():\n",
        "    total = 0\n",
        "    count = 0\n",
        "    num = float(input(\"Enter a number (enter 0 to stop): \"))\n",
        "    if count == 0:\n",
        "      total = num\n",
        "      count += 1\n",
        "    while num != 0:\n",
        "        num = float(input(\"Enter a number (enter 0 to stop): \"))\n",
        "        if num == 0:\n",
        "          break\n",
        "        total -= num\n",
        "        count += 1\n",
        "    return [total, count]\n",
        "\n",
        "\n",
        "result = subtraction()\n",
        "print(f\"Difference: {result[0]}, Count: {result[1]}\")"
      ],
      "metadata": {
        "colab": {
          "base_uri": "https://localhost:8080/"
        },
        "id": "7D67bQHhcmWH",
        "outputId": "15bf7738-32c1-49cb-86d2-f4e448977ddf"
      },
      "execution_count": null,
      "outputs": [
        {
          "output_type": "stream",
          "name": "stdout",
          "text": [
            "Enter a number (enter 0 to stop): 1\n",
            "Enter a number (enter 0 to stop): 1\n",
            "Enter a number (enter 0 to stop): 1\n",
            "Enter a number (enter 0 to stop): 0\n",
            "Difference: -1.0, Count: 3\n"
          ]
        }
      ]
    },
    {
      "cell_type": "code",
      "source": [
        "\"\"\"\n",
        "Create a function called \"multiplication\"\n",
        "that can multiply two or more numbers\n",
        "till user enters zero\n",
        "and returns answer and count of input numbers in a list.\n",
        "\"\"\"\n",
        "def multiplication():\n",
        "    total = 1\n",
        "    count = 0\n",
        "    num = float(input(\"Enter a number (enter 0 to stop): \"))\n",
        "    if num == 0:\n",
        "      return [0,0]\n",
        "    while num != 0:\n",
        "        total *= num\n",
        "        count += 1\n",
        "        num = float(input(\"Enter a number (enter 0 to stop): \"))\n",
        "    return [total, count]\n",
        "\n",
        "result = multiplication()\n",
        "print(f\"Product: {result[0]}, Count: {result[1]}\")"
      ],
      "metadata": {
        "colab": {
          "base_uri": "https://localhost:8080/"
        },
        "id": "natXEBX5dOuG",
        "outputId": "f733d321-2cfb-47cb-b714-86694c9a2bbd"
      },
      "execution_count": null,
      "outputs": [
        {
          "output_type": "stream",
          "name": "stdout",
          "text": [
            "Enter a number (enter 0 to stop): 1\n",
            "Enter a number (enter 0 to stop): 1\n",
            "Enter a number (enter 0 to stop): 2\n",
            "Enter a number (enter 0 to stop): 0\n",
            "Product: 2.0, Count: 3\n"
          ]
        }
      ]
    },
    {
      "cell_type": "code",
      "source": [
        "\"\"\"\n",
        "Create a function called “average”\n",
        "that returns mean of “addition” function.\n",
        "\"\"\"\n",
        "def average(func):\n",
        "  result = func()\n",
        "  if result[1] == 0:\n",
        "    return 0\n",
        "  else:\n",
        "    return result[0] / result[1]\n",
        "avg = average(addition)\n",
        "print(f\"Average: {avg}\")"
      ],
      "metadata": {
        "colab": {
          "base_uri": "https://localhost:8080/"
        },
        "id": "1BuiMveedq4a",
        "outputId": "8305b494-ce1c-45bb-e72e-2b714de4fe82"
      },
      "execution_count": null,
      "outputs": [
        {
          "output_type": "stream",
          "name": "stdout",
          "text": [
            "Enter a number (enter 0 to stop): 1\n",
            "Enter a number (enter 0 to stop): 2\n",
            "Enter a number (enter 0 to stop): 3\n",
            "Enter a number (enter 0 to stop): 0\n",
            "Average: 2.0\n"
          ]
        }
      ]
    },
    {
      "cell_type": "code",
      "source": [
        "\"\"\"\n",
        "Create a simple calculator\n",
        "that asks user to perform operations among created functions.\n",
        "\"\"\"\n",
        "def calculator():\n",
        "    while True:\n",
        "      print(\"1: Addition, 2: Subtraction, 3: Multiplication, 0: Exit\")\n",
        "      choice = int(input('Enter a number '))\n",
        "\n",
        "      if choice == 0:\n",
        "          print(\"Exiting calculator\")\n",
        "          break\n",
        "      if choice == 1:\n",
        "          result = addition()\n",
        "          print(f\"Sum: {result[0]}, Count: {result[1]}\")\n",
        "      elif choice == 2:\n",
        "          result = subtraction()\n",
        "          print(f\"Difference: {result[0]}, Count: {result[1]}\")\n",
        "      elif choice == 3:\n",
        "          result = multiplication()\n",
        "          print(f\"Product: {result[0]}, Count: {result[1]}\")\n",
        "      else:\n",
        "          print(\"Invalid input\")\n",
        "\n",
        "calculator()"
      ],
      "metadata": {
        "colab": {
          "base_uri": "https://localhost:8080/"
        },
        "id": "D7l4l31sd-RK",
        "outputId": "a604661a-3c97-4eff-a5a3-4c26a46c51e8"
      },
      "execution_count": null,
      "outputs": [
        {
          "output_type": "stream",
          "name": "stdout",
          "text": [
            "1: Addition, 2: Subtraction, 3: Multiplication, 0: Exit\n",
            "Enter a number 1\n",
            "Enter a number (enter 0 to stop): 2\n",
            "Enter a number (enter 0 to stop): 3\n",
            "Enter a number (enter 0 to stop): 0\n",
            "Sum: 5.0, Count: 2\n",
            "1: Addition, 2: Subtraction, 3: Multiplication, 0: Exit\n",
            "Enter a number 0\n",
            "Exiting calculator\n"
          ]
        }
      ]
    },
    {
      "cell_type": "code",
      "source": [
        "\"\"\"\n",
        "Write a Python program\n",
        "to find intersection of two given arrays\n",
        "using lambda.\n",
        "\"\"\"\n",
        "list1 = [1,2,3,4,5]\n",
        "list2 = [4,5,6,7,8]\n",
        "\n",
        "intersection = list(filter(lambda x: x in list2, list1))\n",
        "\n",
        "print(intersection)"
      ],
      "metadata": {
        "colab": {
          "base_uri": "https://localhost:8080/",
          "height": 211
        },
        "id": "cB0RmeR-gqfd",
        "outputId": "2b5543ab-af0f-435a-9c7f-9d8300e793b6"
      },
      "execution_count": null,
      "outputs": [
        {
          "output_type": "error",
          "ename": "TypeError",
          "evalue": "'list' object is not callable",
          "traceback": [
            "\u001b[0;31m---------------------------------------------------------------------------\u001b[0m",
            "\u001b[0;31mTypeError\u001b[0m                                 Traceback (most recent call last)",
            "\u001b[0;32m<ipython-input-77-ce10c5e24258>\u001b[0m in \u001b[0;36m<cell line: 0>\u001b[0;34m()\u001b[0m\n\u001b[1;32m      7\u001b[0m \u001b[0mlist2\u001b[0m \u001b[0;34m=\u001b[0m \u001b[0;34m[\u001b[0m\u001b[0;36m4\u001b[0m\u001b[0;34m,\u001b[0m\u001b[0;36m5\u001b[0m\u001b[0;34m,\u001b[0m\u001b[0;36m6\u001b[0m\u001b[0;34m,\u001b[0m\u001b[0;36m7\u001b[0m\u001b[0;34m,\u001b[0m\u001b[0;36m8\u001b[0m\u001b[0;34m]\u001b[0m\u001b[0;34m\u001b[0m\u001b[0;34m\u001b[0m\u001b[0m\n\u001b[1;32m      8\u001b[0m \u001b[0;34m\u001b[0m\u001b[0m\n\u001b[0;32m----> 9\u001b[0;31m \u001b[0mintersection\u001b[0m \u001b[0;34m=\u001b[0m \u001b[0mlist\u001b[0m\u001b[0;34m(\u001b[0m\u001b[0mfilter\u001b[0m\u001b[0;34m(\u001b[0m\u001b[0;32mlambda\u001b[0m \u001b[0mx\u001b[0m\u001b[0;34m:\u001b[0m \u001b[0mx\u001b[0m \u001b[0;32min\u001b[0m \u001b[0mlist2\u001b[0m\u001b[0;34m,\u001b[0m \u001b[0mlist1\u001b[0m\u001b[0;34m)\u001b[0m\u001b[0;34m)\u001b[0m\u001b[0;34m\u001b[0m\u001b[0;34m\u001b[0m\u001b[0m\n\u001b[0m\u001b[1;32m     10\u001b[0m \u001b[0;34m\u001b[0m\u001b[0m\n\u001b[1;32m     11\u001b[0m \u001b[0mprint\u001b[0m\u001b[0;34m(\u001b[0m\u001b[0mintersection\u001b[0m\u001b[0;34m)\u001b[0m\u001b[0;34m\u001b[0m\u001b[0;34m\u001b[0m\u001b[0m\n",
            "\u001b[0;31mTypeError\u001b[0m: 'list' object is not callable"
          ]
        }
      ]
    },
    {
      "cell_type": "code",
      "source": [
        "\"\"\"\n",
        "Write a Python program\n",
        "to add two given lists\n",
        "using map and lambda.\n",
        "\"\"\"\n",
        "def add_lists(list1, list2):\n",
        "  if len(list1) != len(list2):\n",
        "    return []\n",
        "  return list(map(lambda x, y: x + y, list1, list2))\n",
        "\n",
        "list1 = [1, 2, 3]\n",
        "list2 = [4, 5, 6]\n",
        "\n",
        "result_list = add_lists(list1, list2)\n",
        "\n",
        "print(result_list)"
      ],
      "metadata": {
        "colab": {
          "base_uri": "https://localhost:8080/",
          "height": 332
        },
        "id": "x_ejUrulmZ_T",
        "outputId": "3555b6a7-3fac-41de-89e4-b430cf5ff60a"
      },
      "execution_count": null,
      "outputs": [
        {
          "output_type": "error",
          "ename": "TypeError",
          "evalue": "'list' object is not callable",
          "traceback": [
            "\u001b[0;31m---------------------------------------------------------------------------\u001b[0m",
            "\u001b[0;31mTypeError\u001b[0m                                 Traceback (most recent call last)",
            "\u001b[0;32m<ipython-input-80-d0b916426e08>\u001b[0m in \u001b[0;36m<cell line: 0>\u001b[0;34m()\u001b[0m\n\u001b[1;32m     12\u001b[0m \u001b[0mlist2\u001b[0m \u001b[0;34m=\u001b[0m \u001b[0;34m[\u001b[0m\u001b[0;36m4\u001b[0m\u001b[0;34m,\u001b[0m \u001b[0;36m5\u001b[0m\u001b[0;34m,\u001b[0m \u001b[0;36m6\u001b[0m\u001b[0;34m]\u001b[0m\u001b[0;34m\u001b[0m\u001b[0;34m\u001b[0m\u001b[0m\n\u001b[1;32m     13\u001b[0m \u001b[0;34m\u001b[0m\u001b[0m\n\u001b[0;32m---> 14\u001b[0;31m \u001b[0mresult_list\u001b[0m \u001b[0;34m=\u001b[0m \u001b[0madd_lists\u001b[0m\u001b[0;34m(\u001b[0m\u001b[0mlist1\u001b[0m\u001b[0;34m,\u001b[0m \u001b[0mlist2\u001b[0m\u001b[0;34m)\u001b[0m\u001b[0;34m\u001b[0m\u001b[0;34m\u001b[0m\u001b[0m\n\u001b[0m\u001b[1;32m     15\u001b[0m \u001b[0;34m\u001b[0m\u001b[0m\n\u001b[1;32m     16\u001b[0m \u001b[0mprint\u001b[0m\u001b[0;34m(\u001b[0m\u001b[0mresult_list\u001b[0m\u001b[0;34m)\u001b[0m\u001b[0;34m\u001b[0m\u001b[0;34m\u001b[0m\u001b[0m\n",
            "\u001b[0;32m<ipython-input-80-d0b916426e08>\u001b[0m in \u001b[0;36madd_lists\u001b[0;34m(list1, list2)\u001b[0m\n\u001b[1;32m      7\u001b[0m   \u001b[0;32mif\u001b[0m \u001b[0mlen\u001b[0m\u001b[0;34m(\u001b[0m\u001b[0mlist1\u001b[0m\u001b[0;34m)\u001b[0m \u001b[0;34m!=\u001b[0m \u001b[0mlen\u001b[0m\u001b[0;34m(\u001b[0m\u001b[0mlist2\u001b[0m\u001b[0;34m)\u001b[0m\u001b[0;34m:\u001b[0m\u001b[0;34m\u001b[0m\u001b[0;34m\u001b[0m\u001b[0m\n\u001b[1;32m      8\u001b[0m     \u001b[0;32mreturn\u001b[0m \u001b[0;34m[\u001b[0m\u001b[0;34m]\u001b[0m\u001b[0;34m\u001b[0m\u001b[0;34m\u001b[0m\u001b[0m\n\u001b[0;32m----> 9\u001b[0;31m   \u001b[0;32mreturn\u001b[0m \u001b[0mlist\u001b[0m\u001b[0;34m(\u001b[0m\u001b[0mmap\u001b[0m\u001b[0;34m(\u001b[0m\u001b[0;32mlambda\u001b[0m \u001b[0mx\u001b[0m\u001b[0;34m,\u001b[0m \u001b[0my\u001b[0m\u001b[0;34m:\u001b[0m \u001b[0mx\u001b[0m \u001b[0;34m+\u001b[0m \u001b[0my\u001b[0m\u001b[0;34m,\u001b[0m \u001b[0mlist1\u001b[0m\u001b[0;34m,\u001b[0m \u001b[0mlist2\u001b[0m\u001b[0;34m)\u001b[0m\u001b[0;34m)\u001b[0m\u001b[0;34m\u001b[0m\u001b[0;34m\u001b[0m\u001b[0m\n\u001b[0m\u001b[1;32m     10\u001b[0m \u001b[0;34m\u001b[0m\u001b[0m\n\u001b[1;32m     11\u001b[0m \u001b[0mlist1\u001b[0m \u001b[0;34m=\u001b[0m \u001b[0;34m[\u001b[0m\u001b[0;36m1\u001b[0m\u001b[0;34m,\u001b[0m \u001b[0;36m2\u001b[0m\u001b[0;34m,\u001b[0m \u001b[0;36m3\u001b[0m\u001b[0;34m]\u001b[0m\u001b[0;34m\u001b[0m\u001b[0;34m\u001b[0m\u001b[0m\n",
            "\u001b[0;31mTypeError\u001b[0m: 'list' object is not callable"
          ]
        }
      ]
    },
    {
      "cell_type": "code",
      "source": [
        "\"\"\"\n",
        "Write a Python program\n",
        "that stores numbers in a list\n",
        "which are divisible by nineteen or thirteen from a given list.\n",
        "\"\"\"\n",
        "def find_divisible_numbers(numbers):\n",
        "  divisible_numbers = []\n",
        "  for num in numbers:\n",
        "      if num % 19 == 0 or num % 13 == 0:\n",
        "          divisible_numbers.append(num)\n",
        "  return divisible_numbers\n",
        "\n",
        "numbers = [13, 19, 26, 38, 57, 76, 95]\n",
        "result_list = find_divisible_numbers(numbers)\n",
        "print(result_list)"
      ],
      "metadata": {
        "colab": {
          "base_uri": "https://localhost:8080/"
        },
        "id": "V8gGpcxcms6Z",
        "outputId": "096769b7-42db-40c0-f859-6b861369a445"
      },
      "execution_count": null,
      "outputs": [
        {
          "output_type": "stream",
          "name": "stdout",
          "text": [
            "[13, 19, 26, 38, 57, 76, 95]\n"
          ]
        }
      ]
    },
    {
      "cell_type": "markdown",
      "source": [
        "## Homework 1"
      ],
      "metadata": {
        "id": "xjRZaXVJnFDs"
      }
    },
    {
      "cell_type": "code",
      "source": [
        "\"\"\"\n",
        "Create variable age equal to 32 and check its type.\n",
        "\"\"\"\n",
        "age = 32\n",
        "type(age)"
      ],
      "metadata": {
        "colab": {
          "base_uri": "https://localhost:8080/"
        },
        "id": "sFL-RbpsnHe0",
        "outputId": "6ce749cc-c1fd-461e-acb1-101d9c737225"
      },
      "execution_count": null,
      "outputs": [
        {
          "output_type": "execute_result",
          "data": {
            "text/plain": [
              "int"
            ]
          },
          "metadata": {},
          "execution_count": 82
        }
      ]
    },
    {
      "cell_type": "code",
      "source": [
        "\"\"\"\n",
        "Create variable height equal to 1.85\n",
        "and check its type.\n",
        "\"\"\"\n",
        "height = 1.85\n",
        "type(height)"
      ],
      "metadata": {
        "colab": {
          "base_uri": "https://localhost:8080/"
        },
        "id": "lOpYiOz_nTyF",
        "outputId": "c72f1c49-7877-48fd-d9cb-d4d4771eea62"
      },
      "execution_count": null,
      "outputs": [
        {
          "output_type": "execute_result",
          "data": {
            "text/plain": [
              "float"
            ]
          },
          "metadata": {},
          "execution_count": 85
        }
      ]
    },
    {
      "cell_type": "code",
      "source": [
        "\"\"\"\n",
        "Create variables name and surname.\n",
        "Define them as 'your_name' and 'your_surname'.\n",
        "\"\"\"\n",
        "name = \"your_name\"\n",
        "surname = \"your_surname\""
      ],
      "metadata": {
        "id": "Im_M1UT9nhTT"
      },
      "execution_count": null,
      "outputs": []
    },
    {
      "cell_type": "code",
      "source": [
        "\"\"\"\n",
        "Sum up name and surname variables.\n",
        "Define as ID.\n",
        "\"\"\"\n",
        "ID = name + surname"
      ],
      "metadata": {
        "id": "mtCLOrX4nsxt"
      },
      "execution_count": null,
      "outputs": []
    },
    {
      "cell_type": "code",
      "source": [
        "\"\"\"\n",
        "Use indexing.\n",
        "Find last letter of 'your_name'.\n",
        "\"\"\"\n",
        "last_letter = name[-1]"
      ],
      "metadata": {
        "id": "R5UtHgfNn6e2"
      },
      "execution_count": null,
      "outputs": []
    },
    {
      "cell_type": "code",
      "source": [
        "\"\"\"\n",
        "Use slicing.\n",
        "Find 2nd and 3rd letters of 'your_surname'.\n",
        "\"\"\"\n",
        "second_third_letters = surname[1:3]"
      ],
      "metadata": {
        "id": "wPSnTkKDoBcE"
      },
      "execution_count": null,
      "outputs": []
    },
    {
      "cell_type": "code",
      "source": [
        "\"\"\"\n",
        "Create list as new_list.\n",
        "Include 3 4 5 6 7 integers.\n",
        "\"\"\"\n",
        "new_list = [3, 4, 5, 6, 7]"
      ],
      "metadata": {
        "id": "VY2lFmlroH8-"
      },
      "execution_count": null,
      "outputs": []
    },
    {
      "cell_type": "code",
      "source": [
        "\"\"\"\n",
        "Remove 5 from new_list.\n",
        "\"\"\"\n",
        "new_list.remove(5)"
      ],
      "metadata": {
        "id": "iW_T1W12oVDy"
      },
      "execution_count": null,
      "outputs": []
    },
    {
      "cell_type": "code",
      "source": [
        "\"\"\"\n",
        "Delete 2nd value of new_list.\n",
        "\"\"\"\n",
        "del new_list[1]"
      ],
      "metadata": {
        "id": "liOkdHVcoZpm"
      },
      "execution_count": null,
      "outputs": []
    },
    {
      "cell_type": "code",
      "source": [
        "\"\"\"\n",
        "Create tuple as new_tuple.\n",
        "Include 3 4 5 6 7 integers.\n",
        "\"\"\"\n",
        "new_tuple = (3, 4, 5, 6, 7)"
      ],
      "metadata": {
        "id": "n34axNu8oh5h"
      },
      "execution_count": null,
      "outputs": []
    },
    {
      "cell_type": "code",
      "source": [
        "\"\"\"\n",
        "Change 4 in new_tuple to 8.\n",
        "\"\"\"\n",
        "# Tuples are immutable.\n",
        "# I need to create a new tuple.\n",
        "\n",
        "new_tuple = (3, 8, 5, 6, 7)"
      ],
      "metadata": {
        "id": "yOsfoMAypDk8"
      },
      "execution_count": null,
      "outputs": []
    },
    {
      "cell_type": "code",
      "source": [
        "\"\"\"\n",
        "Find the difference between age and 25,\n",
        "if the number is greater than 17\n",
        "return the square of the difference.\n",
        "\"\"\"\n",
        "def age_difference():\n",
        "  age = int(input(\"Enter your age: \"))\n",
        "  diff = age - 25\n",
        "  if age > 17:\n",
        "    print(\"Your age is greater than 17\")\n",
        "    return diff**2\n",
        "  else:\n",
        "    print(\"Your age is less than 17\")\n",
        "    return diff\n",
        "\n",
        "print(age_difference())"
      ],
      "metadata": {
        "colab": {
          "base_uri": "https://localhost:8080/"
        },
        "id": "GbsyyEOpLWHT",
        "outputId": "4108c635-1e07-4c86-c643-ff6fd7ed1e22"
      },
      "execution_count": null,
      "outputs": [
        {
          "output_type": "stream",
          "name": "stdout",
          "text": [
            "Enter your age: 32\n",
            "Your age is greater than 17\n",
            "49\n"
          ]
        }
      ]
    },
    {
      "cell_type": "markdown",
      "source": [
        "## Homework 2"
      ],
      "metadata": {
        "id": "hrZUHXnTkf4u"
      }
    },
    {
      "cell_type": "code",
      "source": [
        "\"\"\"\n",
        "Print First 10 natural numbers\n",
        "using while loop.\n",
        "\"\"\"\n",
        "i = 1\n",
        "while i <= 10:\n",
        "  print(i)\n",
        "  i += 1"
      ],
      "metadata": {
        "colab": {
          "base_uri": "https://localhost:8080/"
        },
        "id": "uHTmLdptkjbV",
        "outputId": "97e63c30-b78e-4157-a55d-761c9b26b235"
      },
      "execution_count": 9,
      "outputs": [
        {
          "output_type": "stream",
          "name": "stdout",
          "text": [
            "1\n",
            "2\n",
            "3\n",
            "4\n",
            "5\n",
            "6\n",
            "7\n",
            "8\n",
            "9\n",
            "10\n"
          ]
        }
      ]
    },
    {
      "cell_type": "code",
      "source": [
        "\"\"\"\n",
        "Display -10 to -1\n",
        "using for loop\n",
        "\"\"\"\n",
        "for i in range(-10, 0):\n",
        " print(i)"
      ],
      "metadata": {
        "colab": {
          "base_uri": "https://localhost:8080/"
        },
        "id": "aAlYqJ_BlIvB",
        "outputId": "fe62ccd8-fbcb-48f7-ab02-1f53a8ecd48d"
      },
      "execution_count": 10,
      "outputs": [
        {
          "output_type": "stream",
          "name": "stdout",
          "text": [
            "-10\n",
            "-9\n",
            "-8\n",
            "-7\n",
            "-6\n",
            "-5\n",
            "-4\n",
            "-3\n",
            "-2\n",
            "-1\n"
          ]
        }
      ]
    },
    {
      "cell_type": "code",
      "source": [
        "\"\"\"\n",
        "Write a Python program\n",
        "that prints all the numbers\n",
        "from 0 to 6\n",
        "except 3 and 6.\n",
        "\"\"\"\n",
        "for i in range(7):\n",
        "  if i == 3 or i == 6:\n",
        "      continue\n",
        "  print(i)"
      ],
      "metadata": {
        "colab": {
          "base_uri": "https://localhost:8080/"
        },
        "id": "LdgQL3_LlkFS",
        "outputId": "9f2f79f2-7b1e-43e8-834a-0a861c12da9c"
      },
      "execution_count": 13,
      "outputs": [
        {
          "output_type": "stream",
          "name": "stdout",
          "text": [
            "0\n",
            "1\n",
            "2\n",
            "4\n",
            "5\n"
          ]
        }
      ]
    },
    {
      "cell_type": "code",
      "source": [
        "\"\"\"\n",
        "Calculate the sum of all number\n",
        "between 1 and 111\n",
        "\"\"\"\n",
        "def calculate_sum():\n",
        "  total = 0\n",
        "  for i in range(1, 112):\n",
        "      total += i\n",
        "  return total\n",
        "\n",
        "sum_of_numbers = calculate_sum()\n",
        "print(f\"The sum of numbers from 1 to 111 is: {sum_of_numbers}\")"
      ],
      "metadata": {
        "colab": {
          "base_uri": "https://localhost:8080/"
        },
        "id": "LibFH6OKl9BF",
        "outputId": "1c33c1cb-7090-49fc-cbaa-d30701105053"
      },
      "execution_count": 14,
      "outputs": [
        {
          "output_type": "stream",
          "name": "stdout",
          "text": [
            "The sum of numbers from 1 to 111 is: 6216\n"
          ]
        }
      ]
    },
    {
      "cell_type": "code",
      "source": [
        "\"\"\"\n",
        "Reverse the following list\n",
        "using for loop\n",
        "list1 = [10, 20, 30, 40, 50]\n",
        "\"\"\"\n",
        "list1 = [10, 20, 30, 40, 50]\n",
        "reversed_list = []\n",
        "for i in range(len(list1) - 1, -1, -1):\n",
        "  reversed_list += [list1[i]]\n",
        "print(reversed_list)"
      ],
      "metadata": {
        "colab": {
          "base_uri": "https://localhost:8080/"
        },
        "id": "qhXNuMlVmXco",
        "outputId": "4c8b3deb-a095-42c6-e6e8-74ba16375d5b"
      },
      "execution_count": 17,
      "outputs": [
        {
          "output_type": "stream",
          "name": "stdout",
          "text": [
            "[50, 40, 30, 20, 10]\n"
          ]
        }
      ]
    },
    {
      "cell_type": "code",
      "source": [
        "\"\"\"\n",
        "Write a Python program\n",
        "to find those numbers which are divisible by 7 and 5,\n",
        "between 1500 and 2700 (both included).\n",
        "\"\"\"\n",
        "def find_divisible_numbers():\n",
        "  numbers = []\n",
        "  for i in range(1500, 2701):\n",
        "    if i % 7 == 0 and i % 5 == 0:\n",
        "      numbers.append(i)\n",
        "  return numbers\n",
        "\n",
        "divisible_numbers = find_divisible_numbers()\n",
        "divisible_numbers"
      ],
      "metadata": {
        "colab": {
          "base_uri": "https://localhost:8080/"
        },
        "id": "PxlvYk_1rwpa",
        "outputId": "ffc88815-9843-4936-92e6-2ea972b624dd"
      },
      "execution_count": 18,
      "outputs": [
        {
          "output_type": "execute_result",
          "data": {
            "text/plain": [
              "[1505,\n",
              " 1540,\n",
              " 1575,\n",
              " 1610,\n",
              " 1645,\n",
              " 1680,\n",
              " 1715,\n",
              " 1750,\n",
              " 1785,\n",
              " 1820,\n",
              " 1855,\n",
              " 1890,\n",
              " 1925,\n",
              " 1960,\n",
              " 1995,\n",
              " 2030,\n",
              " 2065,\n",
              " 2100,\n",
              " 2135,\n",
              " 2170,\n",
              " 2205,\n",
              " 2240,\n",
              " 2275,\n",
              " 2310,\n",
              " 2345,\n",
              " 2380,\n",
              " 2415,\n",
              " 2450,\n",
              " 2485,\n",
              " 2520,\n",
              " 2555,\n",
              " 2590,\n",
              " 2625,\n",
              " 2660,\n",
              " 2695]"
            ]
          },
          "metadata": {},
          "execution_count": 18
        }
      ]
    },
    {
      "cell_type": "code",
      "source": [
        "\"\"\"\n",
        "Display a message “Done”\n",
        "after successful execution of for loop\n",
        "\"\"\"\n",
        "for i in range(7):\n",
        "  if i == 3 or i == 6:\n",
        "      continue\n",
        "  print(i)\n",
        "print(\"Done\")\n"
      ],
      "metadata": {
        "colab": {
          "base_uri": "https://localhost:8080/"
        },
        "id": "bqcyZCzQsDi8",
        "outputId": "d48b8032-1c31-466e-fcd4-62de1cfd0cde"
      },
      "execution_count": 19,
      "outputs": [
        {
          "output_type": "stream",
          "name": "stdout",
          "text": [
            "0\n",
            "1\n",
            "2\n",
            "4\n",
            "5\n",
            "Done\n"
          ]
        }
      ]
    },
    {
      "cell_type": "code",
      "source": [
        "\"\"\"\n",
        "Write a Python program\n",
        "to create a lambda function\n",
        "that adds 15 to a given number passed in as an argument,\n",
        "also create a lambda function\n",
        "that multiplies argument x with argument y\n",
        "and print the result\n",
        "\"\"\"\n",
        "add_15 = lambda x: x + 15\n",
        "multiply = lambda x, y: x * y\n",
        "\n",
        "number = 10\n",
        "result_add = add_15(number)\n",
        "print(f\"Adding 15 to {number}: {result_add}\")\n",
        "\n",
        "num1 = 5\n",
        "num2 = 3\n",
        "result_mult = multiply(num1, num2)\n",
        "print(f\"Multiplying {num1} and {num2}: {result_mult}\")"
      ],
      "metadata": {
        "colab": {
          "base_uri": "https://localhost:8080/"
        },
        "id": "2obMgVgSsW8N",
        "outputId": "e5decc50-5671-44bb-f760-5040c4aab297"
      },
      "execution_count": 20,
      "outputs": [
        {
          "output_type": "stream",
          "name": "stdout",
          "text": [
            "Adding 15 to 10: 25\n",
            "Multiplying 5 and 3: 15\n"
          ]
        }
      ]
    },
    {
      "cell_type": "code",
      "source": [
        "\"\"\"\n",
        "Write a Python program\n",
        "to square and cube every number in a given list of integers using Lambda\n",
        "\"\"\"\n",
        "numbers = list(range(7))\n",
        "\n",
        "square_numbers = list(map(lambda x: x**2, numbers))\n",
        "cube_numbers = list(map(lambda x: x**3, numbers))\n",
        "\n",
        "print(\"Original numbers:\", numbers)\n",
        "print(\"Squared numbers:\", square_numbers)\n",
        "print(\"Cubed numbers:\", cube_numbers)"
      ],
      "metadata": {
        "colab": {
          "base_uri": "https://localhost:8080/"
        },
        "id": "v4NYu-P5tDIZ",
        "outputId": "8cc0b437-d14f-4ebb-95d6-859230b0e281"
      },
      "execution_count": 24,
      "outputs": [
        {
          "output_type": "stream",
          "name": "stdout",
          "text": [
            "Original numbers: [0, 1, 2, 3, 4, 5, 6]\n",
            "Squared numbers: [0, 1, 4, 9, 16, 25, 36]\n",
            "Cubed numbers: [0, 1, 8, 27, 64, 125, 216]\n"
          ]
        }
      ]
    },
    {
      "cell_type": "code",
      "source": [
        "\"\"\"\n",
        "Write a lambda function\n",
        "that returns takes x as parameter\n",
        "and returns x+2.\n",
        "Then assign it to a variable named L\n",
        "\"\"\"\n",
        "L = lambda x: x + 2\n",
        "print(L(32))"
      ],
      "metadata": {
        "colab": {
          "base_uri": "https://localhost:8080/"
        },
        "id": "F5hJmyCsts14",
        "outputId": "2eaabe02-46db-4024-ab55-7b737b95fad3"
      },
      "execution_count": 26,
      "outputs": [
        {
          "output_type": "stream",
          "name": "stdout",
          "text": [
            "34\n"
          ]
        }
      ]
    },
    {
      "cell_type": "code",
      "source": [
        "\"\"\"\n",
        "Write a function\n",
        "which takes two arguments:\n",
        "a and b\n",
        "and returns the multiplication of them: a*b.\n",
        "Assign it to a variable named f\n",
        "\"\"\"\n",
        "f = lambda a, b: a * b\n",
        "print(f(32,2))"
      ],
      "metadata": {
        "colab": {
          "base_uri": "https://localhost:8080/"
        },
        "id": "eX_KzwYnugNg",
        "outputId": "3437a798-94df-4699-b818-24a3d361abcb"
      },
      "execution_count": 27,
      "outputs": [
        {
          "output_type": "stream",
          "name": "stdout",
          "text": [
            "64\n"
          ]
        }
      ]
    },
    {
      "cell_type": "code",
      "source": [
        "\"\"\"\n",
        "Write a Python program\n",
        "to add two given lists\n",
        "using map and lambda\n",
        "\"\"\"\n",
        "def add_lists(list1, list2):\n",
        "  if len(list1) != len(list2):\n",
        "    return []\n",
        "  return list(map(lambda x, y: x + y, list1, list2))\n",
        "\n",
        "list1 = [1, 2, 3]\n",
        "list2 = [4, 5, 6]\n",
        "\n",
        "result_list = add_lists(list1, list2)\n",
        "result_list"
      ],
      "metadata": {
        "colab": {
          "base_uri": "https://localhost:8080/"
        },
        "id": "P1KxwllbvbCW",
        "outputId": "b11bac84-11ee-4566-bc74-5dfda2998b4e"
      },
      "execution_count": 28,
      "outputs": [
        {
          "output_type": "execute_result",
          "data": {
            "text/plain": [
              "[5, 7, 9]"
            ]
          },
          "metadata": {},
          "execution_count": 28
        }
      ]
    },
    {
      "cell_type": "code",
      "source": [
        "\"\"\"\n",
        "Write a map function\n",
        "that adds plus 5 to each item in the list\n",
        "\"\"\"\n",
        "numbers = list(range(7))\n",
        "add_five = list(map(lambda x: x + 5, numbers))\n",
        "add_five"
      ],
      "metadata": {
        "colab": {
          "base_uri": "https://localhost:8080/"
        },
        "id": "MqQ6qXjVwA4K",
        "outputId": "24c3ae66-893f-4c77-a640-562859703580"
      },
      "execution_count": 29,
      "outputs": [
        {
          "output_type": "execute_result",
          "data": {
            "text/plain": [
              "[5, 6, 7, 8, 9, 10, 11]"
            ]
          },
          "metadata": {},
          "execution_count": 29
        }
      ]
    },
    {
      "cell_type": "code",
      "source": [
        "\"\"\"\n",
        "Write a map function\n",
        "that adds \"Hello, \"\n",
        "in front of each item in the list\n",
        "\"\"\"\n",
        "def add_hello(item):\n",
        "  return \"Hello, \" + str(item)\n",
        "\n",
        "my_list = list(range(7))\n",
        "new_list = list(map(add_hello, my_list))\n",
        "new_list"
      ],
      "metadata": {
        "colab": {
          "base_uri": "https://localhost:8080/"
        },
        "id": "dM09QB--wRIi",
        "outputId": "17a0fd84-d0d8-4d61-e1eb-722c96c92644"
      },
      "execution_count": 30,
      "outputs": [
        {
          "output_type": "execute_result",
          "data": {
            "text/plain": [
              "['Hello, 0',\n",
              " 'Hello, 1',\n",
              " 'Hello, 2',\n",
              " 'Hello, 3',\n",
              " 'Hello, 4',\n",
              " 'Hello, 5',\n",
              " 'Hello, 6']"
            ]
          },
          "metadata": {},
          "execution_count": 30
        }
      ]
    },
    {
      "cell_type": "code",
      "source": [
        "\"\"\"\n",
        "Using map() function and len() function\n",
        "create a list that's consisted of lengths of each element in the first list\n",
        "\"\"\"\n",
        "def string_length(my_list):\n",
        "  return list(map(len, my_list))\n",
        "\n",
        "my_list = [\"apple\", \"banana\", \"cherry\"]\n",
        "result = string_length(my_list)\n",
        "result"
      ],
      "metadata": {
        "colab": {
          "base_uri": "https://localhost:8080/"
        },
        "id": "aa3kDqUqwucG",
        "outputId": "e962b5c6-6c40-44ca-918d-19fc4bc979c4"
      },
      "execution_count": 32,
      "outputs": [
        {
          "output_type": "execute_result",
          "data": {
            "text/plain": [
              "[5, 6, 6]"
            ]
          },
          "metadata": {},
          "execution_count": 32
        }
      ]
    },
    {
      "cell_type": "code",
      "source": [
        "\"\"\"\n",
        "Using map() function and lambda\n",
        "add each elements of two lists together.\n",
        "Use a lambda with two arguments.\n",
        "\"\"\"\n",
        "def add_lists_with_lambda(list1, list2):\n",
        "  if len(list1) != len(list2):\n",
        "    return []\n",
        "  return list(map(lambda x, y: x + y, list1, list2))\n",
        "\n",
        "list1 = [1, 2, 3]\n",
        "list2 = [4, 5, 6]\n",
        "\n",
        "result_list = add_lists_with_lambda(list1, list2)\n",
        "print(result_list)"
      ],
      "metadata": {
        "colab": {
          "base_uri": "https://localhost:8080/"
        },
        "id": "wpndLUDcxjPe",
        "outputId": "8b974726-4be8-49b0-9892-ad1626902754"
      },
      "execution_count": 33,
      "outputs": [
        {
          "output_type": "stream",
          "name": "stdout",
          "text": [
            "[5, 7, 9]\n"
          ]
        }
      ]
    }
  ]
}