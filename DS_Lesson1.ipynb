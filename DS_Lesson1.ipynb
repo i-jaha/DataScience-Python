{
  "nbformat": 4,
  "nbformat_minor": 0,
  "metadata": {
    "colab": {
      "provenance": []
    },
    "kernelspec": {
      "name": "python3",
      "display_name": "Python 3"
    },
    "language_info": {
      "name": "python"
    }
  },
  "cells": [
    {
      "cell_type": "markdown",
      "source": [
        "## Case Study"
      ],
      "metadata": {
        "id": "YihJO_xlbrjn"
      }
    },
    {
      "cell_type": "code",
      "source": [
        "\"\"\"\n",
        "Create a function called \"addition_2number\"\n",
        "that takes two input numbers from user\n",
        "and returns sum and count of them.\n",
        "\"\"\"\n",
        "def addition_2number():\n",
        "  num1 = float(input(\"Enter the first number: \"))\n",
        "  num2 = float(input(\"Enter the second number: \"))\n",
        "  return num1 + num2, 2\n",
        "\n",
        "total, count = addition_2number()\n",
        "print(f'sum: {total} , count: {count}')"
      ],
      "metadata": {
        "colab": {
          "base_uri": "https://localhost:8080/"
        },
        "id": "o1tB1NS4bxBy",
        "outputId": "863bfaf0-9730-4532-ca46-49ee08fb66cd"
      },
      "execution_count": null,
      "outputs": [
        {
          "output_type": "stream",
          "name": "stdout",
          "text": [
            "Enter the first number: 1\n",
            "Enter the second number: 1\n",
            "sum: 2.0 , count: 2\n"
          ]
        }
      ]
    },
    {
      "cell_type": "code",
      "source": [
        "\"\"\"\n",
        "Create a function called \"addition\"\n",
        "that can add two or more numbers\n",
        "till user enters zero\n",
        "and returns answer and count of input numbers in a list.\n",
        "\"\"\"\n",
        "def addition():\n",
        "    total = 0\n",
        "    count = 0\n",
        "    num = float(input(\"Enter a number (enter 0 to stop): \"))\n",
        "    while num != 0:\n",
        "        total += num\n",
        "        count += 1\n",
        "        num = float(input(\"Enter a number (enter 0 to stop): \"))\n",
        "    return [total, count]\n",
        "\n",
        "\n",
        "result = addition()\n",
        "print(f\"Sum: {result[0]}, Count: {result[1]}\")"
      ],
      "metadata": {
        "colab": {
          "base_uri": "https://localhost:8080/"
        },
        "id": "9DsxdZybcDBt",
        "outputId": "062b8c22-a24b-4d79-da96-3c6a6e69370d"
      },
      "execution_count": null,
      "outputs": [
        {
          "output_type": "stream",
          "name": "stdout",
          "text": [
            "Enter a number (enter 0 to stop): 1\n",
            "Enter a number (enter 0 to stop): 1\n",
            "Enter a number (enter 0 to stop): 1\n",
            "Enter a number (enter 0 to stop): 0\n",
            "Sum: 3.0, Count: 3\n"
          ]
        }
      ]
    },
    {
      "cell_type": "code",
      "source": [
        "\"\"\"\n",
        "Create a function called \"subtraction\"\n",
        "that can subtract two or more numbers\n",
        "till user enters zero\n",
        "and returns answer and countof input numbers in a list.\n",
        "\"\"\"\n",
        "def subtraction():\n",
        "    total = 0\n",
        "    count = 0\n",
        "    num = float(input(\"Enter a number (enter 0 to stop): \"))\n",
        "    if count == 0:\n",
        "      total = num\n",
        "      count += 1\n",
        "    while num != 0:\n",
        "        num = float(input(\"Enter a number (enter 0 to stop): \"))\n",
        "        if num == 0:\n",
        "          break\n",
        "        total -= num\n",
        "        count += 1\n",
        "    return [total, count]\n",
        "\n",
        "\n",
        "result = subtraction()\n",
        "print(f\"Difference: {result[0]}, Count: {result[1]}\")"
      ],
      "metadata": {
        "colab": {
          "base_uri": "https://localhost:8080/"
        },
        "id": "7D67bQHhcmWH",
        "outputId": "15bf7738-32c1-49cb-86d2-f4e448977ddf"
      },
      "execution_count": null,
      "outputs": [
        {
          "output_type": "stream",
          "name": "stdout",
          "text": [
            "Enter a number (enter 0 to stop): 1\n",
            "Enter a number (enter 0 to stop): 1\n",
            "Enter a number (enter 0 to stop): 1\n",
            "Enter a number (enter 0 to stop): 0\n",
            "Difference: -1.0, Count: 3\n"
          ]
        }
      ]
    },
    {
      "cell_type": "code",
      "source": [
        "\"\"\"\n",
        "Create a function called \"multiplication\"\n",
        "that can multiply two or more numbers\n",
        "till user enters zero\n",
        "and returns answer and count of input numbers in a list.\n",
        "\"\"\"\n",
        "def multiplication():\n",
        "    total = 1\n",
        "    count = 0\n",
        "    num = float(input(\"Enter a number (enter 0 to stop): \"))\n",
        "    if num == 0:\n",
        "      return [0,0]\n",
        "    while num != 0:\n",
        "        total *= num\n",
        "        count += 1\n",
        "        num = float(input(\"Enter a number (enter 0 to stop): \"))\n",
        "    return [total, count]\n",
        "\n",
        "result = multiplication()\n",
        "print(f\"Product: {result[0]}, Count: {result[1]}\")"
      ],
      "metadata": {
        "colab": {
          "base_uri": "https://localhost:8080/"
        },
        "id": "natXEBX5dOuG",
        "outputId": "f733d321-2cfb-47cb-b714-86694c9a2bbd"
      },
      "execution_count": null,
      "outputs": [
        {
          "output_type": "stream",
          "name": "stdout",
          "text": [
            "Enter a number (enter 0 to stop): 1\n",
            "Enter a number (enter 0 to stop): 1\n",
            "Enter a number (enter 0 to stop): 2\n",
            "Enter a number (enter 0 to stop): 0\n",
            "Product: 2.0, Count: 3\n"
          ]
        }
      ]
    },
    {
      "cell_type": "code",
      "source": [
        "\"\"\"\n",
        "Create a function called “average”\n",
        "that returns mean of “addition” function.\n",
        "\"\"\"\n",
        "def average(func):\n",
        "  result = func()\n",
        "  if result[1] == 0:\n",
        "    return 0\n",
        "  else:\n",
        "    return result[0] / result[1]\n",
        "avg = average(addition)\n",
        "print(f\"Average: {avg}\")"
      ],
      "metadata": {
        "colab": {
          "base_uri": "https://localhost:8080/"
        },
        "id": "1BuiMveedq4a",
        "outputId": "8305b494-ce1c-45bb-e72e-2b714de4fe82"
      },
      "execution_count": null,
      "outputs": [
        {
          "output_type": "stream",
          "name": "stdout",
          "text": [
            "Enter a number (enter 0 to stop): 1\n",
            "Enter a number (enter 0 to stop): 2\n",
            "Enter a number (enter 0 to stop): 3\n",
            "Enter a number (enter 0 to stop): 0\n",
            "Average: 2.0\n"
          ]
        }
      ]
    },
    {
      "cell_type": "code",
      "source": [
        "\"\"\"\n",
        "Create a simple calculator\n",
        "that asks user to perform operations among created functions.\n",
        "\"\"\"\n",
        "def calculator():\n",
        "    while True:\n",
        "      print(\"1: Addition, 2: Subtraction, 3: Multiplication, 0: Exit\")\n",
        "      choice = int(input('Enter a number '))\n",
        "\n",
        "      if choice == 0:\n",
        "          print(\"Exiting calculator\")\n",
        "          break\n",
        "      if choice == 1:\n",
        "          result = addition()\n",
        "          print(f\"Sum: {result[0]}, Count: {result[1]}\")\n",
        "      elif choice == 2:\n",
        "          result = subtraction()\n",
        "          print(f\"Difference: {result[0]}, Count: {result[1]}\")\n",
        "      elif choice == 3:\n",
        "          result = multiplication()\n",
        "          print(f\"Product: {result[0]}, Count: {result[1]}\")\n",
        "      else:\n",
        "          print(\"Invalid input\")\n",
        "\n",
        "calculator()"
      ],
      "metadata": {
        "colab": {
          "base_uri": "https://localhost:8080/"
        },
        "id": "D7l4l31sd-RK",
        "outputId": "a604661a-3c97-4eff-a5a3-4c26a46c51e8"
      },
      "execution_count": null,
      "outputs": [
        {
          "output_type": "stream",
          "name": "stdout",
          "text": [
            "1: Addition, 2: Subtraction, 3: Multiplication, 0: Exit\n",
            "Enter a number 1\n",
            "Enter a number (enter 0 to stop): 2\n",
            "Enter a number (enter 0 to stop): 3\n",
            "Enter a number (enter 0 to stop): 0\n",
            "Sum: 5.0, Count: 2\n",
            "1: Addition, 2: Subtraction, 3: Multiplication, 0: Exit\n",
            "Enter a number 0\n",
            "Exiting calculator\n"
          ]
        }
      ]
    },
    {
      "cell_type": "code",
      "source": [
        "\"\"\"\n",
        "Write a Python program\n",
        "to find intersection of two given arrays\n",
        "using lambda.\n",
        "\"\"\"\n",
        "list1 = [1,2,3,4,5]\n",
        "list2 = [4,5,6,7,8]\n",
        "\n",
        "intersection = list(filter(lambda x: x in list2, list1))\n",
        "\n",
        "print(intersection)"
      ],
      "metadata": {
        "colab": {
          "base_uri": "https://localhost:8080/",
          "height": 211
        },
        "id": "cB0RmeR-gqfd",
        "outputId": "2b5543ab-af0f-435a-9c7f-9d8300e793b6"
      },
      "execution_count": 77,
      "outputs": [
        {
          "output_type": "error",
          "ename": "TypeError",
          "evalue": "'list' object is not callable",
          "traceback": [
            "\u001b[0;31m---------------------------------------------------------------------------\u001b[0m",
            "\u001b[0;31mTypeError\u001b[0m                                 Traceback (most recent call last)",
            "\u001b[0;32m<ipython-input-77-ce10c5e24258>\u001b[0m in \u001b[0;36m<cell line: 0>\u001b[0;34m()\u001b[0m\n\u001b[1;32m      7\u001b[0m \u001b[0mlist2\u001b[0m \u001b[0;34m=\u001b[0m \u001b[0;34m[\u001b[0m\u001b[0;36m4\u001b[0m\u001b[0;34m,\u001b[0m\u001b[0;36m5\u001b[0m\u001b[0;34m,\u001b[0m\u001b[0;36m6\u001b[0m\u001b[0;34m,\u001b[0m\u001b[0;36m7\u001b[0m\u001b[0;34m,\u001b[0m\u001b[0;36m8\u001b[0m\u001b[0;34m]\u001b[0m\u001b[0;34m\u001b[0m\u001b[0;34m\u001b[0m\u001b[0m\n\u001b[1;32m      8\u001b[0m \u001b[0;34m\u001b[0m\u001b[0m\n\u001b[0;32m----> 9\u001b[0;31m \u001b[0mintersection\u001b[0m \u001b[0;34m=\u001b[0m \u001b[0mlist\u001b[0m\u001b[0;34m(\u001b[0m\u001b[0mfilter\u001b[0m\u001b[0;34m(\u001b[0m\u001b[0;32mlambda\u001b[0m \u001b[0mx\u001b[0m\u001b[0;34m:\u001b[0m \u001b[0mx\u001b[0m \u001b[0;32min\u001b[0m \u001b[0mlist2\u001b[0m\u001b[0;34m,\u001b[0m \u001b[0mlist1\u001b[0m\u001b[0;34m)\u001b[0m\u001b[0;34m)\u001b[0m\u001b[0;34m\u001b[0m\u001b[0;34m\u001b[0m\u001b[0m\n\u001b[0m\u001b[1;32m     10\u001b[0m \u001b[0;34m\u001b[0m\u001b[0m\n\u001b[1;32m     11\u001b[0m \u001b[0mprint\u001b[0m\u001b[0;34m(\u001b[0m\u001b[0mintersection\u001b[0m\u001b[0;34m)\u001b[0m\u001b[0;34m\u001b[0m\u001b[0;34m\u001b[0m\u001b[0m\n",
            "\u001b[0;31mTypeError\u001b[0m: 'list' object is not callable"
          ]
        }
      ]
    },
    {
      "cell_type": "code",
      "source": [
        "\"\"\"\n",
        "Write a Python program\n",
        "to add two given lists\n",
        "using map and lambda.\n",
        "\"\"\"\n",
        "def add_lists(list1, list2):\n",
        "  if len(list1) != len(list2):\n",
        "    return []\n",
        "  return list(map(lambda x, y: x + y, list1, list2))\n",
        "\n",
        "list1 = [1, 2, 3]\n",
        "list2 = [4, 5, 6]\n",
        "\n",
        "result_list = add_lists(list1, list2)\n",
        "\n",
        "print(result_list)"
      ],
      "metadata": {
        "colab": {
          "base_uri": "https://localhost:8080/",
          "height": 332
        },
        "id": "x_ejUrulmZ_T",
        "outputId": "3555b6a7-3fac-41de-89e4-b430cf5ff60a"
      },
      "execution_count": 80,
      "outputs": [
        {
          "output_type": "error",
          "ename": "TypeError",
          "evalue": "'list' object is not callable",
          "traceback": [
            "\u001b[0;31m---------------------------------------------------------------------------\u001b[0m",
            "\u001b[0;31mTypeError\u001b[0m                                 Traceback (most recent call last)",
            "\u001b[0;32m<ipython-input-80-d0b916426e08>\u001b[0m in \u001b[0;36m<cell line: 0>\u001b[0;34m()\u001b[0m\n\u001b[1;32m     12\u001b[0m \u001b[0mlist2\u001b[0m \u001b[0;34m=\u001b[0m \u001b[0;34m[\u001b[0m\u001b[0;36m4\u001b[0m\u001b[0;34m,\u001b[0m \u001b[0;36m5\u001b[0m\u001b[0;34m,\u001b[0m \u001b[0;36m6\u001b[0m\u001b[0;34m]\u001b[0m\u001b[0;34m\u001b[0m\u001b[0;34m\u001b[0m\u001b[0m\n\u001b[1;32m     13\u001b[0m \u001b[0;34m\u001b[0m\u001b[0m\n\u001b[0;32m---> 14\u001b[0;31m \u001b[0mresult_list\u001b[0m \u001b[0;34m=\u001b[0m \u001b[0madd_lists\u001b[0m\u001b[0;34m(\u001b[0m\u001b[0mlist1\u001b[0m\u001b[0;34m,\u001b[0m \u001b[0mlist2\u001b[0m\u001b[0;34m)\u001b[0m\u001b[0;34m\u001b[0m\u001b[0;34m\u001b[0m\u001b[0m\n\u001b[0m\u001b[1;32m     15\u001b[0m \u001b[0;34m\u001b[0m\u001b[0m\n\u001b[1;32m     16\u001b[0m \u001b[0mprint\u001b[0m\u001b[0;34m(\u001b[0m\u001b[0mresult_list\u001b[0m\u001b[0;34m)\u001b[0m\u001b[0;34m\u001b[0m\u001b[0;34m\u001b[0m\u001b[0m\n",
            "\u001b[0;32m<ipython-input-80-d0b916426e08>\u001b[0m in \u001b[0;36madd_lists\u001b[0;34m(list1, list2)\u001b[0m\n\u001b[1;32m      7\u001b[0m   \u001b[0;32mif\u001b[0m \u001b[0mlen\u001b[0m\u001b[0;34m(\u001b[0m\u001b[0mlist1\u001b[0m\u001b[0;34m)\u001b[0m \u001b[0;34m!=\u001b[0m \u001b[0mlen\u001b[0m\u001b[0;34m(\u001b[0m\u001b[0mlist2\u001b[0m\u001b[0;34m)\u001b[0m\u001b[0;34m:\u001b[0m\u001b[0;34m\u001b[0m\u001b[0;34m\u001b[0m\u001b[0m\n\u001b[1;32m      8\u001b[0m     \u001b[0;32mreturn\u001b[0m \u001b[0;34m[\u001b[0m\u001b[0;34m]\u001b[0m\u001b[0;34m\u001b[0m\u001b[0;34m\u001b[0m\u001b[0m\n\u001b[0;32m----> 9\u001b[0;31m   \u001b[0;32mreturn\u001b[0m \u001b[0mlist\u001b[0m\u001b[0;34m(\u001b[0m\u001b[0mmap\u001b[0m\u001b[0;34m(\u001b[0m\u001b[0;32mlambda\u001b[0m \u001b[0mx\u001b[0m\u001b[0;34m,\u001b[0m \u001b[0my\u001b[0m\u001b[0;34m:\u001b[0m \u001b[0mx\u001b[0m \u001b[0;34m+\u001b[0m \u001b[0my\u001b[0m\u001b[0;34m,\u001b[0m \u001b[0mlist1\u001b[0m\u001b[0;34m,\u001b[0m \u001b[0mlist2\u001b[0m\u001b[0;34m)\u001b[0m\u001b[0;34m)\u001b[0m\u001b[0;34m\u001b[0m\u001b[0;34m\u001b[0m\u001b[0m\n\u001b[0m\u001b[1;32m     10\u001b[0m \u001b[0;34m\u001b[0m\u001b[0m\n\u001b[1;32m     11\u001b[0m \u001b[0mlist1\u001b[0m \u001b[0;34m=\u001b[0m \u001b[0;34m[\u001b[0m\u001b[0;36m1\u001b[0m\u001b[0;34m,\u001b[0m \u001b[0;36m2\u001b[0m\u001b[0;34m,\u001b[0m \u001b[0;36m3\u001b[0m\u001b[0;34m]\u001b[0m\u001b[0;34m\u001b[0m\u001b[0;34m\u001b[0m\u001b[0m\n",
            "\u001b[0;31mTypeError\u001b[0m: 'list' object is not callable"
          ]
        }
      ]
    },
    {
      "cell_type": "code",
      "source": [
        "\"\"\"\n",
        "Write a Python program\n",
        "that stores numbers in a list\n",
        "which are divisible by nineteen or thirteen from a given list.\n",
        "\"\"\"\n",
        "def find_divisible_numbers(numbers):\n",
        "  divisible_numbers = []\n",
        "  for num in numbers:\n",
        "      if num % 19 == 0 or num % 13 == 0:\n",
        "          divisible_numbers.append(num)\n",
        "  return divisible_numbers\n",
        "\n",
        "numbers = [13, 19, 26, 38, 57, 76, 95]\n",
        "result_list = find_divisible_numbers(numbers)\n",
        "print(result_list)"
      ],
      "metadata": {
        "colab": {
          "base_uri": "https://localhost:8080/"
        },
        "id": "V8gGpcxcms6Z",
        "outputId": "096769b7-42db-40c0-f859-6b861369a445"
      },
      "execution_count": 81,
      "outputs": [
        {
          "output_type": "stream",
          "name": "stdout",
          "text": [
            "[13, 19, 26, 38, 57, 76, 95]\n"
          ]
        }
      ]
    },
    {
      "cell_type": "markdown",
      "source": [
        "## Home Task"
      ],
      "metadata": {
        "id": "xjRZaXVJnFDs"
      }
    },
    {
      "cell_type": "code",
      "source": [
        "\"\"\"\n",
        "Create variable age equal to 32 and check its type.\n",
        "\"\"\"\n",
        "age = 32\n",
        "type(age)"
      ],
      "metadata": {
        "colab": {
          "base_uri": "https://localhost:8080/"
        },
        "id": "sFL-RbpsnHe0",
        "outputId": "6ce749cc-c1fd-461e-acb1-101d9c737225"
      },
      "execution_count": 82,
      "outputs": [
        {
          "output_type": "execute_result",
          "data": {
            "text/plain": [
              "int"
            ]
          },
          "metadata": {},
          "execution_count": 82
        }
      ]
    },
    {
      "cell_type": "code",
      "source": [
        "\"\"\"\n",
        "Create variable height equal to 1.85\n",
        "and check its type.\n",
        "\"\"\"\n",
        "height = 1.85\n",
        "type(height)"
      ],
      "metadata": {
        "colab": {
          "base_uri": "https://localhost:8080/"
        },
        "id": "lOpYiOz_nTyF",
        "outputId": "c72f1c49-7877-48fd-d9cb-d4d4771eea62"
      },
      "execution_count": 85,
      "outputs": [
        {
          "output_type": "execute_result",
          "data": {
            "text/plain": [
              "float"
            ]
          },
          "metadata": {},
          "execution_count": 85
        }
      ]
    },
    {
      "cell_type": "code",
      "source": [
        "\"\"\"\n",
        "Create variables name and surname.\n",
        "Define them as 'your_name' and 'your_surname'.\n",
        "\"\"\"\n",
        "name = \"your_name\"\n",
        "surname = \"your_surname\""
      ],
      "metadata": {
        "id": "Im_M1UT9nhTT"
      },
      "execution_count": 86,
      "outputs": []
    },
    {
      "cell_type": "code",
      "source": [
        "\"\"\"\n",
        "Sum up name and surname variables.\n",
        "Define as ID.\n",
        "\"\"\"\n",
        "ID = name + surname"
      ],
      "metadata": {
        "id": "mtCLOrX4nsxt"
      },
      "execution_count": 89,
      "outputs": []
    },
    {
      "cell_type": "code",
      "source": [
        "\"\"\"\n",
        "Use indexing.\n",
        "Find last letter of 'your_name'.\n",
        "\"\"\"\n",
        "last_letter = name[-1]"
      ],
      "metadata": {
        "id": "R5UtHgfNn6e2"
      },
      "execution_count": 90,
      "outputs": []
    },
    {
      "cell_type": "code",
      "source": [
        "\"\"\"\n",
        "Use slicing.\n",
        "Find 2nd and 3rd letters of 'your_surname'.\n",
        "\"\"\"\n",
        "second_third_letters = surname[1:3]"
      ],
      "metadata": {
        "id": "wPSnTkKDoBcE"
      },
      "execution_count": 91,
      "outputs": []
    },
    {
      "cell_type": "code",
      "source": [
        "\"\"\"\n",
        "Create list as new_list.\n",
        "Include 3 4 5 6 7 integers.\n",
        "\"\"\"\n",
        "new_list = [3, 4, 5, 6, 7]"
      ],
      "metadata": {
        "id": "VY2lFmlroH8-"
      },
      "execution_count": 93,
      "outputs": []
    },
    {
      "cell_type": "code",
      "source": [
        "\"\"\"\n",
        "Remove 5 from new_list.\n",
        "\"\"\"\n",
        "new_list.remove(5)"
      ],
      "metadata": {
        "id": "iW_T1W12oVDy"
      },
      "execution_count": 94,
      "outputs": []
    },
    {
      "cell_type": "code",
      "source": [
        "\"\"\"\n",
        "Delete 2nd value of new_list.\n",
        "\"\"\"\n",
        "del new_list[1]"
      ],
      "metadata": {
        "id": "liOkdHVcoZpm"
      },
      "execution_count": 95,
      "outputs": []
    },
    {
      "cell_type": "code",
      "source": [
        "\"\"\"\n",
        "Create tuple as new_tuple.\n",
        "Include 3 4 5 6 7 integers.\n",
        "\"\"\"\n",
        "new_tuple = (3, 4, 5, 6, 7)"
      ],
      "metadata": {
        "id": "n34axNu8oh5h"
      },
      "execution_count": 98,
      "outputs": []
    },
    {
      "cell_type": "code",
      "source": [
        "\"\"\"\n",
        "Change 4 in new_tuple to 8.\n",
        "\"\"\"\n",
        "# Tuples are immutable.\n",
        "# I need to create a new tuple.\n",
        "\n",
        "new_tuple = (3, 8, 5, 6, 7)"
      ],
      "metadata": {
        "id": "yOsfoMAypDk8"
      },
      "execution_count": 101,
      "outputs": []
    },
    {
      "cell_type": "code",
      "source": [
        "\"\"\"\n",
        "Find the difference between age and 25,\n",
        "if the number is greater than 17\n",
        "return the square of the difference.\n",
        "\"\"\"\n",
        "def age_difference():\n",
        "  age = int(input(\"Enter your age: \"))\n",
        "  diff = age - 25\n",
        "  if age > 17:\n",
        "    print(\"Your age is greater than 17\")\n",
        "    return diff**2\n",
        "  else:\n",
        "    print(\"Your age is less than 17\")\n",
        "    return diff\n",
        "\n",
        "print(age_difference())"
      ],
      "metadata": {
        "colab": {
          "base_uri": "https://localhost:8080/"
        },
        "id": "GbsyyEOpLWHT",
        "outputId": "4108c635-1e07-4c86-c643-ff6fd7ed1e22"
      },
      "execution_count": 8,
      "outputs": [
        {
          "output_type": "stream",
          "name": "stdout",
          "text": [
            "Enter your age: 32\n",
            "Your age is greater than 17\n",
            "49\n"
          ]
        }
      ]
    }
  ]
}